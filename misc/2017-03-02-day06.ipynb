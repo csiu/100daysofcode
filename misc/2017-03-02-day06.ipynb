{
 "cells": [
  {
   "cell_type": "markdown",
   "metadata": {},
   "source": [
    "---\n",
    "layout: post\n",
    "author: csiu\n",
    "date: 2017-03-02\n",
    "title: \"Day06: Jupyter Notebook, meet Jekyll blog post\"\n",
    "categories: update\n",
    "tags:\n",
    "  - 100daysofcode\n",
    "  - setup\n",
    "excerpt: Integrating code \n",
    "---"
   ]
  },
  {
   "cell_type": "markdown",
   "metadata": {},
   "source": [
    "DAY 06 - Mar 2, 2017\n",
    "\n",
    "### Data Science meetup\n",
    "\n",
    "Today I went to the [Data Science meetup for \"Using NLP & Machine Learning to understand and predict performance\"](https://www.meetup.com/DataScience/events/237733099/). Fascinating stuff. Somewhat similar to my thesis work and the talk inspired a few ideas for future projects."
   ]
  },
  {
   "cell_type": "code",
   "execution_count": 1,
   "metadata": {
    "collapsed": false
   },
   "outputs": [],
   "source": [
    "speaker = 'Thomas Levi'\n",
    "topics_mentioned_at_meetup = [\n",
    "    \"latent dirichlet allocation\",\n",
    "    \"collapsed gibbs sampling\",\n",
    "    \"bayesian inference\",\n",
    "    \"topic modelling\",\n",
    "    \"porter stemmer\",\n",
    "    \"flesch reading ease\",\n",
    "    \"word2vec\"\n",
    "]"
   ]
  },
  {
   "cell_type": "markdown",
   "metadata": {},
   "source": [
    "*Anyways, I just got home and now (as I'm typing this) have 35 minutes to do something and post it for Day06.*\n",
    "\n",
    "### Jupyter Notebook meet Jekyll blog post\n",
    "\n",
    "Going back to a comment I recently recieved about including and embedding code to my jekyll blog posts. I thought I would tackle this problem now. The issue is that I use Jupyter Notebooks to explore and analyze data but I haven't really looked at its integration with the Jekyll blog post."
   ]
  },
  {
   "cell_type": "code",
   "execution_count": 2,
   "metadata": {
    "collapsed": false
   },
   "outputs": [
    {
     "name": "stdout",
     "output_type": "stream",
     "text": [
      "- 'latent dirichlet allocation' was mentioned\n",
      "- 'collapsed gibbs sampling' was mentioned\n",
      "- 'bayesian inference' was mentioned\n",
      "- 'topic modelling' was mentioned\n",
      "- 'porter stemmer' was mentioned\n",
      "- 'flesch reading ease' was mentioned\n",
      "- 'word2vec' was mentioned\n"
     ]
    }
   ],
   "source": [
    "for t in topics_mentioned_at_meetup:\n",
    "    print(\"- '{}' was mentioned\".format(t))"
   ]
  },
  {
   "cell_type": "markdown",
   "metadata": {},
   "source": [
    "### Integration with Jekyll\n",
    "\n",
    "1. Add yaml front matter to the top of the Jupyter Notebook\n",
    "2. Convert Jupyter Notebook to markdown by `jupyter nbconvert --to markdown NOTEBOOK.ipynb`\n",
    "3. Delete empty first line of markdown"
   ]
  },
  {
   "cell_type": "code",
   "execution_count": null,
   "metadata": {
    "collapsed": true
   },
   "outputs": [],
   "source": []
  }
 ],
 "metadata": {
  "kernelspec": {
   "display_name": "Python 3",
   "language": "python",
   "name": "python3"
  },
  "language_info": {
   "codemirror_mode": {
    "name": "ipython",
    "version": 3
   },
   "file_extension": ".py",
   "mimetype": "text/x-python",
   "name": "python",
   "nbconvert_exporter": "python",
   "pygments_lexer": "ipython3",
   "version": "3.6.0"
  }
 },
 "nbformat": 4,
 "nbformat_minor": 2
}

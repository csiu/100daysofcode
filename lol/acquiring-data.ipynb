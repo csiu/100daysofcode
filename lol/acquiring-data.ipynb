{
 "cells": [
  {
   "cell_type": "code",
   "execution_count": 1,
   "metadata": {
    "collapsed": false
   },
   "outputs": [],
   "source": [
    "from bs4 import BeautifulSoup\n",
    "import requests\n",
    "\n",
    "import pandas as pd\n",
    "import re"
   ]
  },
  {
   "cell_type": "markdown",
   "metadata": {},
   "source": [
    "DAY 11 - Mar 7, 2017\n",
    "\n",
    "Today I'll do something a little different. This morning I tweeted something along the lines of \"will be working with `matplotlib`.\" In terms of visualization, I'm more familiar with R and ggplot2 and so this is a perfect opportunity to explore matplotlib. But first I need data.\n",
    "\n",
    "### Acquiring the data\n",
    "\n",
    "What data to choose? At the time, my younger brother had League of Legends on his computer screen. Inspiration. I'll use League of Legend data. Plotting game data is always fun. My brother said use the [League of Legends: Base champion statistics](http://leagueoflegends.wikia.com/wiki/Base_champion_statistics) website."
   ]
  },
  {
   "cell_type": "code",
   "execution_count": 2,
   "metadata": {
    "collapsed": true
   },
   "outputs": [],
   "source": [
    "website_base_stats = \"http://leagueoflegends.wikia.com/wiki/Base_champion_statistics\""
   ]
  },
  {
   "cell_type": "code",
   "execution_count": 3,
   "metadata": {
    "collapsed": true
   },
   "outputs": [],
   "source": [
    "# Save HTML to soup\n",
    "html_data = requests.get(website_base_stats).text\n",
    "soup = BeautifulSoup(html_data, \"html5lib\")"
   ]
  },
  {
   "cell_type": "code",
   "execution_count": 4,
   "metadata": {
    "collapsed": false
   },
   "outputs": [
    {
     "name": "stdout",
     "output_type": "stream",
     "text": [
      "(134, 19)\n"
     ]
    },
    {
     "data": {
      "text/html": [
       "<div>\n",
       "<table border=\"1\" class=\"dataframe\">\n",
       "  <thead>\n",
       "    <tr style=\"text-align: right;\">\n",
       "      <th></th>\n",
       "      <th>Champions</th>\n",
       "      <th>HP</th>\n",
       "      <th>HP+</th>\n",
       "      <th>HP5</th>\n",
       "      <th>HP5+</th>\n",
       "      <th>MP</th>\n",
       "      <th>MP+</th>\n",
       "      <th>MP5</th>\n",
       "      <th>MP5+</th>\n",
       "      <th>AD</th>\n",
       "      <th>AD+</th>\n",
       "      <th>AS</th>\n",
       "      <th>AS+</th>\n",
       "      <th>AR</th>\n",
       "      <th>AR+</th>\n",
       "      <th>MR</th>\n",
       "      <th>MR+</th>\n",
       "      <th>MS</th>\n",
       "      <th>Range</th>\n",
       "    </tr>\n",
       "  </thead>\n",
       "  <tbody>\n",
       "    <tr>\n",
       "      <th>0</th>\n",
       "      <td>Aatrox</td>\n",
       "      <td>537.8</td>\n",
       "      <td>+85</td>\n",
       "      <td>6.59</td>\n",
       "      <td>+0.5</td>\n",
       "      <td>105</td>\n",
       "      <td>+45</td>\n",
       "      <td>0</td>\n",
       "      <td>+0</td>\n",
       "      <td>60.376</td>\n",
       "      <td>+3.2</td>\n",
       "      <td>0.651</td>\n",
       "      <td>+3%</td>\n",
       "      <td>24.384</td>\n",
       "      <td>+3.8</td>\n",
       "      <td>32.1</td>\n",
       "      <td>+1.25</td>\n",
       "      <td>345</td>\n",
       "      <td>150</td>\n",
       "    </tr>\n",
       "    <tr>\n",
       "      <th>1</th>\n",
       "      <td>Ahri</td>\n",
       "      <td>514.4</td>\n",
       "      <td>+80</td>\n",
       "      <td>6.505</td>\n",
       "      <td>+0.6</td>\n",
       "      <td>334</td>\n",
       "      <td>+50</td>\n",
       "      <td>6</td>\n",
       "      <td>+0.8</td>\n",
       "      <td>53.04</td>\n",
       "      <td>+3</td>\n",
       "      <td>0.668</td>\n",
       "      <td>+2%</td>\n",
       "      <td>20.88</td>\n",
       "      <td>+3.5</td>\n",
       "      <td>30</td>\n",
       "      <td>+0</td>\n",
       "      <td>330</td>\n",
       "      <td>550</td>\n",
       "    </tr>\n",
       "    <tr>\n",
       "      <th>2</th>\n",
       "      <td>Akali</td>\n",
       "      <td>587.8</td>\n",
       "      <td>+85</td>\n",
       "      <td>8.34</td>\n",
       "      <td>+0.65</td>\n",
       "      <td>200</td>\n",
       "      <td>+0</td>\n",
       "      <td>50</td>\n",
       "      <td>+0</td>\n",
       "      <td>58.376</td>\n",
       "      <td>+3.2</td>\n",
       "      <td>0.694</td>\n",
       "      <td>+3.1%</td>\n",
       "      <td>26.38</td>\n",
       "      <td>+3.5</td>\n",
       "      <td>32.1</td>\n",
       "      <td>+1.25</td>\n",
       "      <td>350</td>\n",
       "      <td>125</td>\n",
       "    </tr>\n",
       "    <tr>\n",
       "      <th>3</th>\n",
       "      <td>Alistar</td>\n",
       "      <td>613.36</td>\n",
       "      <td>+106</td>\n",
       "      <td>8.675</td>\n",
       "      <td>+0.85</td>\n",
       "      <td>278.84</td>\n",
       "      <td>+38</td>\n",
       "      <td>8.5</td>\n",
       "      <td>+0.8</td>\n",
       "      <td>61.1116</td>\n",
       "      <td>+3.62</td>\n",
       "      <td>0.625</td>\n",
       "      <td>+2.125%</td>\n",
       "      <td>24.38</td>\n",
       "      <td>+3.5</td>\n",
       "      <td>32.1</td>\n",
       "      <td>+1.25</td>\n",
       "      <td>330</td>\n",
       "      <td>125</td>\n",
       "    </tr>\n",
       "    <tr>\n",
       "      <th>4</th>\n",
       "      <td>Amumu</td>\n",
       "      <td>613.12</td>\n",
       "      <td>+84</td>\n",
       "      <td>8.875</td>\n",
       "      <td>+0.85</td>\n",
       "      <td>287.2</td>\n",
       "      <td>+40</td>\n",
       "      <td>7.38</td>\n",
       "      <td>+0.525</td>\n",
       "      <td>53.384</td>\n",
       "      <td>+3.8</td>\n",
       "      <td>0.638</td>\n",
       "      <td>+2.18%</td>\n",
       "      <td>23.544</td>\n",
       "      <td>+3.8</td>\n",
       "      <td>32.1</td>\n",
       "      <td>+1.25</td>\n",
       "      <td>335</td>\n",
       "      <td>125</td>\n",
       "    </tr>\n",
       "  </tbody>\n",
       "</table>\n",
       "</div>"
      ],
      "text/plain": [
       "  Champions      HP   HP+    HP5   HP5+      MP  MP+   MP5    MP5+       AD  \\\n",
       "0    Aatrox   537.8   +85   6.59   +0.5     105  +45     0      +0   60.376   \n",
       "1      Ahri   514.4   +80  6.505   +0.6     334  +50     6    +0.8    53.04   \n",
       "2     Akali   587.8   +85   8.34  +0.65     200   +0    50      +0   58.376   \n",
       "3   Alistar  613.36  +106  8.675  +0.85  278.84  +38   8.5    +0.8  61.1116   \n",
       "4     Amumu  613.12   +84  8.875  +0.85   287.2  +40  7.38  +0.525   53.384   \n",
       "\n",
       "     AD+     AS      AS+      AR   AR+    MR    MR+   MS Range  \n",
       "0   +3.2  0.651      +3%  24.384  +3.8  32.1  +1.25  345   150  \n",
       "1     +3  0.668      +2%   20.88  +3.5    30     +0  330   550  \n",
       "2   +3.2  0.694    +3.1%   26.38  +3.5  32.1  +1.25  350   125  \n",
       "3  +3.62  0.625  +2.125%   24.38  +3.5  32.1  +1.25  330   125  \n",
       "4   +3.8  0.638   +2.18%  23.544  +3.8  32.1  +1.25  335   125  "
      ]
     },
     "execution_count": 4,
     "metadata": {},
     "output_type": "execute_result"
    }
   ],
   "source": [
    "# Parse table\n",
    "table = soup.find('table', attrs={'class' : 'wikitable'})\n",
    "\n",
    "# Parse table header\n",
    "lol_thead = [h.text.strip() for h in soup.find_all(\"th\")]\n",
    "\n",
    "# Parse table body\n",
    "table_body = table.tbody\n",
    "\n",
    "data = []\n",
    "rows = table_body.find_all('tr')\n",
    "for row in rows:\n",
    "    cols = row.find_all('td')\n",
    "    if len(cols) == 0: continue\n",
    "    cols[0] = cols[0].span\n",
    "    cols = [c.text.strip() for c in cols]\n",
    "    data.append(cols)\n",
    "\n",
    "lol_table = pd.DataFrame(data, columns=lol_thead)\n",
    "\n",
    "# Print\n",
    "print(lol_table.shape)\n",
    "lol_table.head()"
   ]
  },
  {
   "cell_type": "code",
   "execution_count": 5,
   "metadata": {
    "collapsed": false
   },
   "outputs": [
    {
     "data": {
      "text/html": [
       "<div>\n",
       "<table border=\"1\" class=\"dataframe\">\n",
       "  <thead>\n",
       "    <tr style=\"text-align: right;\">\n",
       "      <th></th>\n",
       "      <th>href</th>\n",
       "      <th>Champions</th>\n",
       "    </tr>\n",
       "  </thead>\n",
       "  <tbody>\n",
       "    <tr>\n",
       "      <th>140</th>\n",
       "      <td>http://leagueoflegends.wikia.com/wiki/Zac</td>\n",
       "      <td>Zac</td>\n",
       "    </tr>\n",
       "    <tr>\n",
       "      <th>141</th>\n",
       "      <td>http://leagueoflegends.wikia.com/wiki/Zed</td>\n",
       "      <td>Zed</td>\n",
       "    </tr>\n",
       "    <tr>\n",
       "      <th>142</th>\n",
       "      <td>http://leagueoflegends.wikia.com/wiki/Ziggs</td>\n",
       "      <td>Ziggs</td>\n",
       "    </tr>\n",
       "    <tr>\n",
       "      <th>143</th>\n",
       "      <td>http://leagueoflegends.wikia.com/wiki/Zilean</td>\n",
       "      <td>Zilean</td>\n",
       "    </tr>\n",
       "    <tr>\n",
       "      <th>144</th>\n",
       "      <td>http://leagueoflegends.wikia.com/wiki/Zyra</td>\n",
       "      <td>Zyra</td>\n",
       "    </tr>\n",
       "  </tbody>\n",
       "</table>\n",
       "</div>"
      ],
      "text/plain": [
       "                                             href Champions\n",
       "140     http://leagueoflegends.wikia.com/wiki/Zac       Zac\n",
       "141     http://leagueoflegends.wikia.com/wiki/Zed       Zed\n",
       "142   http://leagueoflegends.wikia.com/wiki/Ziggs     Ziggs\n",
       "143  http://leagueoflegends.wikia.com/wiki/Zilean    Zilean\n",
       "144    http://leagueoflegends.wikia.com/wiki/Zyra      Zyra"
      ]
     },
     "execution_count": 5,
     "metadata": {},
     "output_type": "execute_result"
    }
   ],
   "source": [
    "# Parse href link info to url with more info\n",
    "lol_links = table.tbody.find_all(\"a\", href=True, class_=False)\n",
    "\n",
    "link_data = []\n",
    "for l in lol_links:\n",
    "    link_data.append(l.attrs)\n",
    "\n",
    "\n",
    "link_data = pd.DataFrame(link_data)\n",
    "link_data = link_data.rename(columns={\"title\": \"Champions\"})\n",
    "\n",
    "# Use full link\n",
    "link_data.href = \"http://leagueoflegends.wikia.com\" + link_data.href\n",
    "\n",
    "link_data.tail()"
   ]
  },
  {
   "cell_type": "code",
   "execution_count": 6,
   "metadata": {
    "collapsed": false
   },
   "outputs": [
    {
     "name": "stdout",
     "output_type": "stream",
     "text": [
      "(134, 20)\n"
     ]
    },
    {
     "data": {
      "text/html": [
       "<div>\n",
       "<table border=\"1\" class=\"dataframe\">\n",
       "  <thead>\n",
       "    <tr style=\"text-align: right;\">\n",
       "      <th></th>\n",
       "      <th>Champions</th>\n",
       "      <th>HP</th>\n",
       "      <th>HP+</th>\n",
       "      <th>HP5</th>\n",
       "      <th>HP5+</th>\n",
       "      <th>MP</th>\n",
       "      <th>MP+</th>\n",
       "      <th>MP5</th>\n",
       "      <th>MP5+</th>\n",
       "      <th>AD</th>\n",
       "      <th>AD+</th>\n",
       "      <th>AS</th>\n",
       "      <th>AS+</th>\n",
       "      <th>AR</th>\n",
       "      <th>AR+</th>\n",
       "      <th>MR</th>\n",
       "      <th>MR+</th>\n",
       "      <th>MS</th>\n",
       "      <th>Range</th>\n",
       "      <th>href</th>\n",
       "    </tr>\n",
       "  </thead>\n",
       "  <tbody>\n",
       "    <tr>\n",
       "      <th>0</th>\n",
       "      <td>Aatrox</td>\n",
       "      <td>537.8</td>\n",
       "      <td>+85</td>\n",
       "      <td>6.59</td>\n",
       "      <td>+0.5</td>\n",
       "      <td>105</td>\n",
       "      <td>+45</td>\n",
       "      <td>0</td>\n",
       "      <td>+0</td>\n",
       "      <td>60.376</td>\n",
       "      <td>+3.2</td>\n",
       "      <td>0.651</td>\n",
       "      <td>+3%</td>\n",
       "      <td>24.384</td>\n",
       "      <td>+3.8</td>\n",
       "      <td>32.1</td>\n",
       "      <td>+1.25</td>\n",
       "      <td>345</td>\n",
       "      <td>150</td>\n",
       "      <td>http://leagueoflegends.wikia.com/wiki/Aatrox</td>\n",
       "    </tr>\n",
       "    <tr>\n",
       "      <th>1</th>\n",
       "      <td>Ahri</td>\n",
       "      <td>514.4</td>\n",
       "      <td>+80</td>\n",
       "      <td>6.505</td>\n",
       "      <td>+0.6</td>\n",
       "      <td>334</td>\n",
       "      <td>+50</td>\n",
       "      <td>6</td>\n",
       "      <td>+0.8</td>\n",
       "      <td>53.04</td>\n",
       "      <td>+3</td>\n",
       "      <td>0.668</td>\n",
       "      <td>+2%</td>\n",
       "      <td>20.88</td>\n",
       "      <td>+3.5</td>\n",
       "      <td>30</td>\n",
       "      <td>+0</td>\n",
       "      <td>330</td>\n",
       "      <td>550</td>\n",
       "      <td>http://leagueoflegends.wikia.com/wiki/Ahri</td>\n",
       "    </tr>\n",
       "    <tr>\n",
       "      <th>2</th>\n",
       "      <td>Akali</td>\n",
       "      <td>587.8</td>\n",
       "      <td>+85</td>\n",
       "      <td>8.34</td>\n",
       "      <td>+0.65</td>\n",
       "      <td>200</td>\n",
       "      <td>+0</td>\n",
       "      <td>50</td>\n",
       "      <td>+0</td>\n",
       "      <td>58.376</td>\n",
       "      <td>+3.2</td>\n",
       "      <td>0.694</td>\n",
       "      <td>+3.1%</td>\n",
       "      <td>26.38</td>\n",
       "      <td>+3.5</td>\n",
       "      <td>32.1</td>\n",
       "      <td>+1.25</td>\n",
       "      <td>350</td>\n",
       "      <td>125</td>\n",
       "      <td>http://leagueoflegends.wikia.com/wiki/Akali</td>\n",
       "    </tr>\n",
       "    <tr>\n",
       "      <th>3</th>\n",
       "      <td>Alistar</td>\n",
       "      <td>613.36</td>\n",
       "      <td>+106</td>\n",
       "      <td>8.675</td>\n",
       "      <td>+0.85</td>\n",
       "      <td>278.84</td>\n",
       "      <td>+38</td>\n",
       "      <td>8.5</td>\n",
       "      <td>+0.8</td>\n",
       "      <td>61.1116</td>\n",
       "      <td>+3.62</td>\n",
       "      <td>0.625</td>\n",
       "      <td>+2.125%</td>\n",
       "      <td>24.38</td>\n",
       "      <td>+3.5</td>\n",
       "      <td>32.1</td>\n",
       "      <td>+1.25</td>\n",
       "      <td>330</td>\n",
       "      <td>125</td>\n",
       "      <td>http://leagueoflegends.wikia.com/wiki/Alistar</td>\n",
       "    </tr>\n",
       "    <tr>\n",
       "      <th>4</th>\n",
       "      <td>Amumu</td>\n",
       "      <td>613.12</td>\n",
       "      <td>+84</td>\n",
       "      <td>8.875</td>\n",
       "      <td>+0.85</td>\n",
       "      <td>287.2</td>\n",
       "      <td>+40</td>\n",
       "      <td>7.38</td>\n",
       "      <td>+0.525</td>\n",
       "      <td>53.384</td>\n",
       "      <td>+3.8</td>\n",
       "      <td>0.638</td>\n",
       "      <td>+2.18%</td>\n",
       "      <td>23.544</td>\n",
       "      <td>+3.8</td>\n",
       "      <td>32.1</td>\n",
       "      <td>+1.25</td>\n",
       "      <td>335</td>\n",
       "      <td>125</td>\n",
       "      <td>http://leagueoflegends.wikia.com/wiki/Amumu</td>\n",
       "    </tr>\n",
       "  </tbody>\n",
       "</table>\n",
       "</div>"
      ],
      "text/plain": [
       "  Champions      HP   HP+    HP5   HP5+      MP  MP+   MP5    MP5+       AD  \\\n",
       "0    Aatrox   537.8   +85   6.59   +0.5     105  +45     0      +0   60.376   \n",
       "1      Ahri   514.4   +80  6.505   +0.6     334  +50     6    +0.8    53.04   \n",
       "2     Akali   587.8   +85   8.34  +0.65     200   +0    50      +0   58.376   \n",
       "3   Alistar  613.36  +106  8.675  +0.85  278.84  +38   8.5    +0.8  61.1116   \n",
       "4     Amumu  613.12   +84  8.875  +0.85   287.2  +40  7.38  +0.525   53.384   \n",
       "\n",
       "     AD+     AS      AS+      AR   AR+    MR    MR+   MS Range  \\\n",
       "0   +3.2  0.651      +3%  24.384  +3.8  32.1  +1.25  345   150   \n",
       "1     +3  0.668      +2%   20.88  +3.5    30     +0  330   550   \n",
       "2   +3.2  0.694    +3.1%   26.38  +3.5  32.1  +1.25  350   125   \n",
       "3  +3.62  0.625  +2.125%   24.38  +3.5  32.1  +1.25  330   125   \n",
       "4   +3.8  0.638   +2.18%  23.544  +3.8  32.1  +1.25  335   125   \n",
       "\n",
       "                                            href  \n",
       "0   http://leagueoflegends.wikia.com/wiki/Aatrox  \n",
       "1     http://leagueoflegends.wikia.com/wiki/Ahri  \n",
       "2    http://leagueoflegends.wikia.com/wiki/Akali  \n",
       "3  http://leagueoflegends.wikia.com/wiki/Alistar  \n",
       "4    http://leagueoflegends.wikia.com/wiki/Amumu  "
      ]
     },
     "execution_count": 6,
     "metadata": {},
     "output_type": "execute_result"
    }
   ],
   "source": [
    "# Join tables\n",
    "lol_table = pd.merge(lol_table, link_data, on=\"Champions\", how=\"left\")\n",
    "\n",
    "\n",
    "print(lol_table.shape)\n",
    "lol_table.head()"
   ]
  },
  {
   "cell_type": "code",
   "execution_count": 7,
   "metadata": {
    "collapsed": true
   },
   "outputs": [],
   "source": [
    "lol_table.to_csv(\"/Users/csiu/Desktop/test.txt\", index=False, sep=\"\\t\")"
   ]
  },
  {
   "cell_type": "markdown",
   "metadata": {},
   "source": [
    "We now have data to plot.\n",
    "\n",
    "### Matplotlib\n",
    "According to the cheatsheet that Kirk Borne tweeted out this morning. The components are:\n",
    "\n",
    "#### 1. Prepare the data"
   ]
  },
  {
   "cell_type": "code",
   "execution_count": 8,
   "metadata": {
    "collapsed": false
   },
   "outputs": [
    {
     "name": "stdout",
     "output_type": "stream",
     "text": [
      "   Champions   HP  HP+ HP5   HP5+   MP MP+             MP5            MP5+  \\\n",
      "56      Kled  340  +70   6  +0.75  100  +0  {{{mp5_base}}}  +{{{mp5_lvl}}}   \n",
      "\n",
      "    AD AD+     AS    AS+  AR AR+    MR    MR+   MS Range  \\\n",
      "56  55  +3  0.625  +3.5%  26  +4  32.1  +1.25  345   125   \n",
      "\n",
      "                                          href  \n",
      "56  http://leagueoflegends.wikia.com/wiki/Kled  \n"
     ]
    },
    {
     "data": {
      "text/html": [
       "<div>\n",
       "<table border=\"1\" class=\"dataframe\">\n",
       "  <thead>\n",
       "    <tr style=\"text-align: right;\">\n",
       "      <th></th>\n",
       "      <th>Champions</th>\n",
       "      <th>HP</th>\n",
       "      <th>HP+</th>\n",
       "      <th>HP5</th>\n",
       "      <th>HP5+</th>\n",
       "      <th>MP</th>\n",
       "      <th>MP+</th>\n",
       "      <th>MP5</th>\n",
       "      <th>MP5+</th>\n",
       "      <th>AD</th>\n",
       "      <th>AD+</th>\n",
       "      <th>AS</th>\n",
       "      <th>AS+</th>\n",
       "      <th>AR</th>\n",
       "      <th>AR+</th>\n",
       "      <th>MR</th>\n",
       "      <th>MR+</th>\n",
       "      <th>MS</th>\n",
       "      <th>Range</th>\n",
       "      <th>href</th>\n",
       "    </tr>\n",
       "  </thead>\n",
       "  <tbody>\n",
       "    <tr>\n",
       "      <th>56</th>\n",
       "      <td>Kled</td>\n",
       "      <td>340</td>\n",
       "      <td>+70</td>\n",
       "      <td>6</td>\n",
       "      <td>+0.75</td>\n",
       "      <td>100</td>\n",
       "      <td>+0</td>\n",
       "      <td>None</td>\n",
       "      <td>None</td>\n",
       "      <td>55</td>\n",
       "      <td>+3</td>\n",
       "      <td>0.625</td>\n",
       "      <td>+3.5%</td>\n",
       "      <td>26</td>\n",
       "      <td>+4</td>\n",
       "      <td>32.1</td>\n",
       "      <td>+1.25</td>\n",
       "      <td>345</td>\n",
       "      <td>125</td>\n",
       "      <td>http://leagueoflegends.wikia.com/wiki/Kled</td>\n",
       "    </tr>\n",
       "  </tbody>\n",
       "</table>\n",
       "</div>"
      ],
      "text/plain": [
       "   Champions   HP  HP+ HP5   HP5+   MP MP+   MP5  MP5+  AD AD+     AS    AS+  \\\n",
       "56      Kled  340  +70   6  +0.75  100  +0  None  None  55  +3  0.625  +3.5%   \n",
       "\n",
       "    AR AR+    MR    MR+   MS Range                                        href  \n",
       "56  26  +4  32.1  +1.25  345   125  http://leagueoflegends.wikia.com/wiki/Kled  "
      ]
     },
     "execution_count": 8,
     "metadata": {},
     "output_type": "execute_result"
    }
   ],
   "source": [
    "# Fix problematic data\n",
    "print(lol_table[lol_table[\"Champions\"]==\"Kled\"])\n",
    "\n",
    "# by replacing with None type\n",
    "lol_table.iloc[56, 7:9] = None\n",
    "lol_table[lol_table[\"Champions\"]==\"Kled\"]"
   ]
  },
  {
   "cell_type": "code",
   "execution_count": 9,
   "metadata": {
    "collapsed": false
   },
   "outputs": [],
   "source": [
    "# Convert data types to float\n",
    "columns_to_float = list(lol_table.columns[1:12])+ list(lol_table.columns[13:-1])\n",
    "lol_table[columns_to_float] = lol_table[columns_to_float].astype(float)\n",
    "lol_table\n",
    "\n",
    "# Convert AS+ data types\n",
    "lol_table[lol_table.columns[12]] = lol_table[lol_table.columns[12]].map(lambda x: float(x.strip(\"%\"))/100)"
   ]
  },
  {
   "cell_type": "markdown",
   "metadata": {},
   "source": [
    "#### 2. Create Plot"
   ]
  },
  {
   "cell_type": "code",
   "execution_count": 10,
   "metadata": {
    "collapsed": true
   },
   "outputs": [],
   "source": [
    "import matplotlib.pyplot as plt"
   ]
  },
  {
   "cell_type": "code",
   "execution_count": 11,
   "metadata": {
    "collapsed": true
   },
   "outputs": [],
   "source": [
    "%matplotlib inline\n",
    "plt.rcParams[\"figure.figsize\"] = [15,6]"
   ]
  },
  {
   "cell_type": "code",
   "execution_count": 51,
   "metadata": {
    "collapsed": false,
    "scrolled": false
   },
   "outputs": [
    {
     "data": {
      "image/png": "[encoded data removed]",
      "text/plain": [
       "<matplotlib.figure.Figure at 0x11b366978>"
      ]
     },
     "metadata": {},
     "output_type": "display_data"
    }
   ],
   "source": [
    "# 2. Create plot\n",
    "fig = plt.figure()\n",
    "ax1 = fig.add_subplot(221)\n",
    "ax2 = fig.add_subplot(222)\n",
    "ax3 = fig.add_subplot(223)\n",
    "ax4 = fig.add_subplot(224)\n",
    "\n",
    "# Add title so know which plot is which\n",
    "ax1.title.set_text('Plot 1')\n",
    "ax2.title.set_text('Plot 2')\n",
    "ax3.title.set_text('Plot 3')\n",
    "ax4.title.set_text('Plot 4')\n",
    "\n",
    "# 3. Plotting routines\n",
    "# Add the data (same data to all plots)\n",
    "ax1.scatter(x=lol_table.HP, y=lol_table.Range)\n",
    "ax2.scatter(x=lol_table.HP, y=lol_table.Range)\n",
    "ax3.scatter(x=lol_table.HP, y=lol_table.Range)\n",
    "ax4.scatter(x=lol_table.HP, y=lol_table.Range, marker=\"+\", color=\"red\")\n",
    "\n",
    "# 4. Customize plots\n",
    "ax2.spines['top'].set_visible(False)\n",
    "ax2.spines['right'].set_visible(False)\n",
    "ax2.set(xlabel = \"HP\", ylabel = \"Ranage\")\n",
    "\n",
    "for vline in range(300, 700, 100):\n",
    "    ax3.axvline(vline, color=\"grey\", linestyle=\"dashed\", linewidth=0.5)\n",
    "ax3.xaxis.set(\n",
    "    ticks=range(300, 700, 100),\n",
    "    ticklabels=[\"HP:{}\".format(x) for x in range(300, 700, 50)]\n",
    ")\n",
    "\n",
    "ax4.set(\n",
    "    xlim=[450, 650],\n",
    "    ylim=[400, 700]\n",
    ")\n",
    "ax4.text(600, 550, \"Zoom!\", style='italic', fontsize=\"x-large\")\n",
    "# 5. Save figures\n",
    "# plt.savefig('foo.png')\n",
    "# plt.savefig('foo.png', transparent=True)\n",
    "\n",
    "plt.tight_layout()"
   ]
  },
  {
   "cell_type": "code",
   "execution_count": null,
   "metadata": {
    "collapsed": true
   },
   "outputs": [],
   "source": []
  }
 ],
 "metadata": {
  "kernelspec": {
   "display_name": "Python 3",
   "language": "python",
   "name": "python3"
  },
  "language_info": {
   "codemirror_mode": {
    "name": "ipython",
    "version": 3
   },
   "file_extension": ".py",
   "mimetype": "text/x-python",
   "name": "python",
   "nbconvert_exporter": "python",
   "pygments_lexer": "ipython3",
   "version": "3.6.0"
  }
 },
 "nbformat": 4,
 "nbformat_minor": 2
}

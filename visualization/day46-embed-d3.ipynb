{
 "cells": [
  {
   "cell_type": "markdown",
   "metadata": {},
   "source": [
    "While reflecting on the state of my GitHub repos yesterday, I was thinking how cool things would be if I used D3.\n",
    "\n",
    "\n",
    "Previously I came across [Mike Irvine's personal website](http://sempwn.github.io) [<i class=\"fa fa-github\"></i>](https://github.com/sempwn/sempwn.github.io) and I really like how he made the dynamic D3 visual, showcasing the spread of disease in a community (ie. related to his work), as the first thing one notices when they come across his page.\n",
    "\n",
    "I want to do something similar for my personal website.\n",
    "\n",
    "\n",
    "### Editor for D3\n",
    "\n",
    "Before I begin, I want an interactive development environment (IDE) for D3. In my search I came across the following:\n",
    "\n",
    "| IDE | Rating |\n",
    "|-----|--------|\n",
    "| [D3.js playground](http://phrogz.net/js/d3-playground/#BlankDefault) | <i class=\"fa fa-star\"></i> |\n",
    "| [Tributary](http://tributary.io/inlet/4653053) | |\n",
    "| [JSFiddle](https://jsfiddle.net/csiu/jxeLfhd4/) | <i class=\"fa fa-star\"></i><i class=\"fa fa-star\"></i> |\n",
    "\n",
    "\n",
    "### Embedding D3 in Jupyter Notebooks\n",
    "I also came across embedding D3 in Jupyter Notebooks with [`py_d3`](https://github.com/ResidentMario/py_d3).\n",
    "\n",
    "1. Install py_d3 with `pip install py_d3`\n",
    "2. Run `%load_ext py_d3` in Jupyter Notebook for Jupyter notebook D3 block magic"
   ]
  },
  {
   "cell_type": "code",
   "execution_count": 1,
   "metadata": {
    "collapsed": true
   },
   "outputs": [],
   "source": [
    "%load_ext py_d3"
   ]
  },
  {
   "cell_type": "markdown",
   "metadata": {},
   "source": [
    "Include D3 script:"
   ]
  },
  {
   "cell_type": "code",
   "execution_count": 2,
   "metadata": {
    "collapsed": false
   },
   "outputs": [
    {
     "data": {
      "text/html": [
       "\n",
       "<script>\n",
       "requirejs.config({\n",
       "    paths: {\n",
       "        d3: \"//cdnjs.cloudflare.com/ajax/libs/d3/3.5.17/d3\"\n",
       "    }\n",
       "});\n",
       "\n",
       "require(['d3'], function(d3) {\n",
       "    window.d3 = d3;\n",
       "});\n",
       "</script>\n",
       "<script>\n",
       "_select = d3.select;\n",
       "\n",
       "d3.select0 = function(selection) {\n",
       "    return _select(\"#d3-cell-0\").select(selection);\n",
       "}\n",
       "d3.selectAll0 = function(selection) {\n",
       "    return _select(\"#d3-cell-0\").selectAll(selection);\n",
       "}\n",
       "</script>\n",
       "<g id=\"d3-cell-0\">\n",
       "<script src=\"https://d3js.org/d3.v3.js\"></script>\n",
       "</g>"
      ],
      "text/plain": [
       "<IPython.core.display.HTML object>"
      ]
     },
     "metadata": {},
     "output_type": "display_data"
    }
   ],
   "source": [
    "%%d3\n",
    "<script src=\"https://d3js.org/d3.v3.js\"></script>"
   ]
  },
  {
   "cell_type": "markdown",
   "metadata": {},
   "source": [
    "#### Example 01: Hello world"
   ]
  },
  {
   "cell_type": "code",
   "execution_count": 4,
   "metadata": {
    "collapsed": false
   },
   "outputs": [
    {
     "data": {
      "text/html": [
       "\n",
       "<script>\n",
       "requirejs.config({\n",
       "    paths: {\n",
       "        d3: \"//cdnjs.cloudflare.com/ajax/libs/d3/3.5.17/d3\"\n",
       "    }\n",
       "});\n",
       "\n",
       "require(['d3'], function(d3) {\n",
       "    window.d3 = d3;\n",
       "});\n",
       "</script>\n",
       "<script>\n",
       "_select = d3.select;\n",
       "\n",
       "d3.select2 = function(selection) {\n",
       "    return _select(\"#d3-cell-2\").select(selection);\n",
       "}\n",
       "d3.selectAll2 = function(selection) {\n",
       "    return _select(\"#d3-cell-2\").selectAll(selection);\n",
       "}\n",
       "</script>\n",
       "<g id=\"d3-cell-2\">\n",
       "\n",
       "<div></div>\n",
       "\n",
       "<script>\n",
       "d3.select2(\"div\").text(\"Hello world\")\n",
       "</script>\n",
       "</g>"
      ],
      "text/plain": [
       "<IPython.core.display.HTML object>"
      ]
     },
     "metadata": {},
     "output_type": "display_data"
    }
   ],
   "source": [
    "%%d3\n",
    "\n",
    "<div></div>\n",
    "\n",
    "<script>\n",
    "d3.select(\"div\").text(\"Hello world\")\n",
    "</script>"
   ]
  },
  {
   "cell_type": "markdown",
   "metadata": {},
   "source": [
    "#### Example 02: Simple rectangle"
   ]
  },
  {
   "cell_type": "code",
   "execution_count": 5,
   "metadata": {
    "collapsed": false,
    "scrolled": false
   },
   "outputs": [
    {
     "data": {
      "text/html": [
       "\n",
       "<script>\n",
       "requirejs.config({\n",
       "    paths: {\n",
       "        d3: \"//cdnjs.cloudflare.com/ajax/libs/d3/3.5.17/d3\"\n",
       "    }\n",
       "});\n",
       "\n",
       "require(['d3'], function(d3) {\n",
       "    window.d3 = d3;\n",
       "});\n",
       "</script>\n",
       "<script>\n",
       "_select = d3.select;\n",
       "\n",
       "d3.select3 = function(selection) {\n",
       "    return _select(\"#d3-cell-3\").select(selection);\n",
       "}\n",
       "d3.selectAll3 = function(selection) {\n",
       "    return _select(\"#d3-cell-3\").selectAll(selection);\n",
       "}\n",
       "</script>\n",
       "<g id=\"d3-cell-3\">\n",
       "\n",
       "<g></g>\n",
       "\n",
       "<script>\n",
       "    d3.select3(\"g\").append(\"svg\").append(\"rect\")\n",
       "      .attr(\"x\", 150)\n",
       "      .attr(\"y\", 50)\n",
       "      .attr(\"width\", 50)\n",
       "      .attr(\"height\", 140);\n",
       "</script>\n",
       "</g>"
      ],
      "text/plain": [
       "<IPython.core.display.HTML object>"
      ]
     },
     "metadata": {},
     "output_type": "display_data"
    }
   ],
   "source": [
    "%%d3\n",
    "\n",
    "<g></g>\n",
    "\n",
    "<script>\n",
    "    d3.select(\"g\").append(\"svg\").append(\"rect\")\n",
    "      .attr(\"x\", 150)\n",
    "      .attr(\"y\", 50)\n",
    "      .attr(\"width\", 50)\n",
    "      .attr(\"height\", 140);\n",
    "</script>"
   ]
  },
  {
   "cell_type": "markdown",
   "metadata": {},
   "source": [
    "#### Example 03: Functions, style, and polygons"
   ]
  },
  {
   "cell_type": "code",
   "execution_count": 6,
   "metadata": {
    "collapsed": false
   },
   "outputs": [
    {
     "data": {
      "text/html": [
       "\n",
       "<script>\n",
       "requirejs.config({\n",
       "    paths: {\n",
       "        d3: \"//cdnjs.cloudflare.com/ajax/libs/d3/3.5.17/d3\"\n",
       "    }\n",
       "});\n",
       "\n",
       "require(['d3'], function(d3) {\n",
       "    window.d3 = d3;\n",
       "});\n",
       "</script>\n",
       "<script>\n",
       "_select = d3.select;\n",
       "\n",
       "d3.select4 = function(selection) {\n",
       "    return _select(\"#d3-cell-4\").select(selection);\n",
       "}\n",
       "d3.selectAll4 = function(selection) {\n",
       "    return _select(\"#d3-cell-4\").selectAll(selection);\n",
       "}\n",
       "</script>\n",
       "<g id=\"d3-cell-4\">\n",
       "\n",
       "<g></g>\n",
       "\n",
       "<script>\n",
       "function CalculateStarPoints(centerX, centerY, arms, outerRadius, innerRadius) {\n",
       "  var results = \"\";\n",
       "  var angle = Math.PI / arms * 2;\n",
       "\n",
       "  for (var i = 0; i < 2 * arms; i++) {\n",
       "    var r = (i & 1) == 0 ? outerRadius : innerRadius;\n",
       "    var pointX = centerX + Math.cos(i * angle) * r;\n",
       "    var pointY = centerY + Math.sin(i * angle) * r;\n",
       "    // Our first time we simply append the coordinates, subsequet times\n",
       "    // we append a \", \" to distinguish each coordinate pair.\n",
       "    if (i == 0) {\n",
       "      results = pointX + \",\" + pointY;\n",
       "    } else {\n",
       "      results += \", \" + pointX + \",\" + pointY;\n",
       "    }\n",
       "  }\n",
       "  return results;\n",
       "}\n",
       "\n",
       "d3.select4(\"g\").append(\"svg\")\n",
       "  .append(\"polygon\")\n",
       "  .attr(\"visibility\", \"visible\")\n",
       "  .attr(\"points\", CalculateStarPoints(100, 100, 5, 30, 15));\n",
       "\n",
       "d3.select4(\"g\").append(\"svg\")\n",
       "  .append(\"polygon\")\n",
       "  .attr(\"visibility\", \"visible\")\n",
       "  .attr(\"points\", CalculateStarPoints(100, 100, 5, 30, 15))\n",
       "  .style(\"fill\", \"lime\")\n",
       "  .style(\"stroke\", \"purple\")\n",
       "  .style(\"stroke-width\", \"5\")\n",
       "  .style(\"fill-rule\",\"evenodd\");\n",
       "</script>\n",
       "</g>"
      ],
      "text/plain": [
       "<IPython.core.display.HTML object>"
      ]
     },
     "metadata": {},
     "output_type": "display_data"
    }
   ],
   "source": [
    "%%d3\n",
    "\n",
    "<g></g>\n",
    "\n",
    "<script>\n",
    "function CalculateStarPoints(centerX, centerY, arms, outerRadius, innerRadius) {\n",
    "  var results = \"\";\n",
    "  var angle = Math.PI / arms * 2;\n",
    "\n",
    "  for (var i = 0; i < 2 * arms; i++) {\n",
    "    var r = (i & 1) == 0 ? outerRadius : innerRadius;\n",
    "    var pointX = centerX + Math.cos(i * angle) * r;\n",
    "    var pointY = centerY + Math.sin(i * angle) * r;\n",
    "    // Our first time we simply append the coordinates, subsequet times\n",
    "    // we append a \", \" to distinguish each coordinate pair.\n",
    "    if (i == 0) {\n",
    "      results = pointX + \",\" + pointY;\n",
    "    } else {\n",
    "      results += \", \" + pointX + \",\" + pointY;\n",
    "    }\n",
    "  }\n",
    "  return results;\n",
    "}\n",
    "\n",
    "d3.select(\"g\").append(\"svg\")\n",
    "  .append(\"polygon\")\n",
    "  .attr(\"visibility\", \"visible\")\n",
    "  .attr(\"points\", CalculateStarPoints(100, 100, 5, 30, 15));\n",
    "\n",
    "d3.select(\"g\").append(\"svg\")\n",
    "  .append(\"polygon\")\n",
    "  .attr(\"visibility\", \"visible\")\n",
    "  .attr(\"points\", CalculateStarPoints(100, 100, 5, 30, 15))\n",
    "  .style(\"fill\", \"lime\")\n",
    "  .style(\"stroke\", \"purple\")\n",
    "  .style(\"stroke-width\", \"5\")\n",
    "  .style(\"fill-rule\",\"evenodd\");\n",
    "</script>"
   ]
  },
  {
   "cell_type": "markdown",
   "metadata": {},
   "source": [
    "### Kink with using Jupyter Notebook"
   ]
  },
  {
   "cell_type": "markdown",
   "metadata": {},
   "source": [
    "When I load the [Collision Detection](https://bl.ocks.org/mbostock/3231298) example by Mike Bostock in the Jupyter Notebook, it doesn't work. Nothing is rendered (see following). However, this is not an issue with [JSFiddle](https://jsfiddle.net/csiu/w31tuvg8/)."
   ]
  },
  {
   "cell_type": "code",
   "execution_count": 7,
   "metadata": {
    "collapsed": false
   },
   "outputs": [
    {
     "data": {
      "text/html": [
       "\n",
       "<script>\n",
       "requirejs.config({\n",
       "    paths: {\n",
       "        d3: \"//cdnjs.cloudflare.com/ajax/libs/d3/3.5.17/d3\"\n",
       "    }\n",
       "});\n",
       "\n",
       "require(['d3'], function(d3) {\n",
       "    window.d3 = d3;\n",
       "});\n",
       "</script>\n",
       "<script>\n",
       "_select = d3.select;\n",
       "\n",
       "d3.select5 = function(selection) {\n",
       "    return _select(\"#d3-cell-5\").select(selection);\n",
       "}\n",
       "d3.selectAll5 = function(selection) {\n",
       "    return _select(\"#d3-cell-5\").selectAll(selection);\n",
       "}\n",
       "</script>\n",
       "<g id=\"d3-cell-5\">\n",
       "\n",
       "<script src=\"https://d3js.org/d3.v3.js\"></script>\n",
       "\n",
       "This example is modified from <a href=\"https://bl.ocks.org/mbostock/3231298\">https://bl.ocks.org/mbostock/3231298</a>\n",
       "\n",
       "<body></body>\n",
       "\n",
       "<script>\n",
       "var width = 500,\n",
       "  height = 500;\n",
       "\n",
       "var nodes = d3.range(200).map(function() {\n",
       "    return {\n",
       "      radius: Math.random() * 12 + 4\n",
       "    };\n",
       "  }),\n",
       "  root = nodes[0],\n",
       "  color = d3.scale.category10();\n",
       "\n",
       "root.radius = 0;\n",
       "root.fixed = true;\n",
       "\n",
       "var force = d3.layout.force()\n",
       "  .gravity(0.05)\n",
       "  .charge(function(d, i) {\n",
       "    return i ? 0 : -1500;\n",
       "  })\n",
       "  .nodes(nodes)\n",
       "  .size([width, height]);\n",
       "\n",
       "force.start();\n",
       "\n",
       "var svg = d3.select5(\"body\").append(\"svg\")\n",
       "  .attr(\"width\", width)\n",
       "  .attr(\"height\", height);\n",
       "\n",
       "svg.selectAll(\"circle\")\n",
       "  .data(nodes.slice(1))\n",
       "  .enter().append(\"circle\")\n",
       "  .attr(\"r\", function(d) {\n",
       "    return d.radius;\n",
       "  })\n",
       "  .style(\"fill\", function(d, i) {\n",
       "    return color(i % 3);\n",
       "  });\n",
       "\n",
       "force.on(\"tick\", function(e) {\n",
       "  var q = d3.geom.quadtree(nodes),\n",
       "    i = 0,\n",
       "    n = nodes.length;\n",
       "\n",
       "  while (++i < n) q.visit(collide(nodes[i]));\n",
       "\n",
       "  svg.selectAll(\"circle\")\n",
       "    .attr(\"cx\", function(d) {\n",
       "      return d.x;\n",
       "    })\n",
       "    .attr(\"cy\", function(d) {\n",
       "      return d.y;\n",
       "    });\n",
       "});\n",
       "\n",
       "svg.on(\"mousemove\", function() {\n",
       "  var p1 = d3.mouse(this);\n",
       "  root.px = p1[0];\n",
       "  root.py = p1[1];\n",
       "  force.resume();\n",
       "});\n",
       "\n",
       "function collide(node) {\n",
       "  var r = node.radius + 16,\n",
       "    nx1 = node.x - r,\n",
       "    nx2 = node.x + r,\n",
       "    ny1 = node.y - r,\n",
       "    ny2 = node.y + r;\n",
       "  return function(quad, x1, y1, x2, y2) {\n",
       "    if (quad.point && (quad.point !== node)) {\n",
       "      var x = node.x - quad.point.x,\n",
       "        y = node.y - quad.point.y,\n",
       "        l = Math.sqrt(x * x + y * y),\n",
       "        r = node.radius + quad.point.radius;\n",
       "      if (l < r) {\n",
       "        l = (l - r) / l * .5;\n",
       "        node.x -= x *= l;\n",
       "        node.y -= y *= l;\n",
       "        quad.point.x += x;\n",
       "        quad.point.y += y;\n",
       "      }\n",
       "    }\n",
       "    return x1 > nx2 || x2 < nx1 || y1 > ny2 || y2 < ny1;\n",
       "  };\n",
       "}\n",
       "</script>\n",
       "</g>"
      ],
      "text/plain": [
       "<IPython.core.display.HTML object>"
      ]
     },
     "metadata": {},
     "output_type": "display_data"
    }
   ],
   "source": [
    "%%d3\n",
    "\n",
    "<script src=\"https://d3js.org/d3.v3.js\"></script>\n",
    "\n",
    "This example is modified from <a href=\"https://bl.ocks.org/mbostock/3231298\">https://bl.ocks.org/mbostock/3231298</a>\n",
    "\n",
    "<body></body>\n",
    "\n",
    "<script>\n",
    "var width = 500,\n",
    "  height = 500;\n",
    "\n",
    "var nodes = d3.range(200).map(function() {\n",
    "    return {\n",
    "      radius: Math.random() * 12 + 4\n",
    "    };\n",
    "  }),\n",
    "  root = nodes[0],\n",
    "  color = d3.scale.category10();\n",
    "\n",
    "root.radius = 0;\n",
    "root.fixed = true;\n",
    "\n",
    "var force = d3.layout.force()\n",
    "  .gravity(0.05)\n",
    "  .charge(function(d, i) {\n",
    "    return i ? 0 : -1500;\n",
    "  })\n",
    "  .nodes(nodes)\n",
    "  .size([width, height]);\n",
    "\n",
    "force.start();\n",
    "\n",
    "var svg = d3.select(\"body\").append(\"svg\")\n",
    "  .attr(\"width\", width)\n",
    "  .attr(\"height\", height);\n",
    "\n",
    "svg.selectAll(\"circle\")\n",
    "  .data(nodes.slice(1))\n",
    "  .enter().append(\"circle\")\n",
    "  .attr(\"r\", function(d) {\n",
    "    return d.radius;\n",
    "  })\n",
    "  .style(\"fill\", function(d, i) {\n",
    "    return color(i % 3);\n",
    "  });\n",
    "\n",
    "force.on(\"tick\", function(e) {\n",
    "  var q = d3.geom.quadtree(nodes),\n",
    "    i = 0,\n",
    "    n = nodes.length;\n",
    "\n",
    "  while (++i < n) q.visit(collide(nodes[i]));\n",
    "\n",
    "  svg.selectAll(\"circle\")\n",
    "    .attr(\"cx\", function(d) {\n",
    "      return d.x;\n",
    "    })\n",
    "    .attr(\"cy\", function(d) {\n",
    "      return d.y;\n",
    "    });\n",
    "});\n",
    "\n",
    "svg.on(\"mousemove\", function() {\n",
    "  var p1 = d3.mouse(this);\n",
    "  root.px = p1[0];\n",
    "  root.py = p1[1];\n",
    "  force.resume();\n",
    "});\n",
    "\n",
    "function collide(node) {\n",
    "  var r = node.radius + 16,\n",
    "    nx1 = node.x - r,\n",
    "    nx2 = node.x + r,\n",
    "    ny1 = node.y - r,\n",
    "    ny2 = node.y + r;\n",
    "  return function(quad, x1, y1, x2, y2) {\n",
    "    if (quad.point && (quad.point !== node)) {\n",
    "      var x = node.x - quad.point.x,\n",
    "        y = node.y - quad.point.y,\n",
    "        l = Math.sqrt(x * x + y * y),\n",
    "        r = node.radius + quad.point.radius;\n",
    "      if (l < r) {\n",
    "        l = (l - r) / l * .5;\n",
    "        node.x -= x *= l;\n",
    "        node.y -= y *= l;\n",
    "        quad.point.x += x;\n",
    "        quad.point.y += y;\n",
    "      }\n",
    "    }\n",
    "    return x1 > nx2 || x2 < nx1 || y1 > ny2 || y2 < ny1;\n",
    "  };\n",
    "}\n",
    "</script>"
   ]
  }
 ],
 "metadata": {
  "kernelspec": {
   "display_name": "Python 3",
   "language": "python",
   "name": "python3"
  },
  "language_info": {
   "codemirror_mode": {
    "name": "ipython",
    "version": 3
   },
   "file_extension": ".py",
   "mimetype": "text/x-python",
   "name": "python",
   "nbconvert_exporter": "python",
   "pygments_lexer": "ipython3",
   "version": "3.6.1"
  }
 },
 "nbformat": 4,
 "nbformat_minor": 2
}

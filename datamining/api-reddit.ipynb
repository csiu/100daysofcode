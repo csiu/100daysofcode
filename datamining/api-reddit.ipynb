{
 "cells": [
  {
   "cell_type": "markdown",
   "metadata": {},
   "source": [
    "DAY 03 - Feb 27, 2017\n",
    "\n",
    "# APIs & Sentiment analysis"
   ]
  },
  {
   "cell_type": "code",
   "execution_count": 1,
   "metadata": {
    "collapsed": false
   },
   "outputs": [
    {
     "name": "stderr",
     "output_type": "stream",
     "text": [
      "/Users/csiu/software/anaconda/anaconda2-4.0.0/envs/kaggle/lib/python3.6/site-packages/nltk/twitter/__init__.py:20: UserWarning: The twython library has not been installed. Some functionality from the twitter package will not be available.\n",
      "  warnings.warn(\"The twython library has not been installed. \"\n"
     ]
    }
   ],
   "source": [
    "import yaml\n",
    "import praw\n",
    "\n",
    "import nltk\n",
    "\n",
    "from nltk.classify import NaiveBayesClassifier\n",
    "from nltk.corpus import subjectivity\n",
    "from nltk.sentiment import SentimentAnalyzer\n",
    "from nltk.sentiment.util import *\n",
    "\n",
    "from nltk import tokenize\n",
    "from nltk.sentiment.vader import SentimentIntensityAnalyzer\n",
    "\n",
    "import pandas as pd\n",
    "import matplotlib.pyplot as plt"
   ]
  },
  {
   "cell_type": "code",
   "execution_count": 2,
   "metadata": {
    "collapsed": true
   },
   "outputs": [],
   "source": [
    "%matplotlib inline"
   ]
  },
  {
   "cell_type": "code",
   "execution_count": 3,
   "metadata": {
    "collapsed": true
   },
   "outputs": [],
   "source": [
    "plt.rcParams[\"figure.figsize\"] = [15,4]\n",
    "plt.style.use('ggplot')"
   ]
  },
  {
   "cell_type": "markdown",
   "metadata": {},
   "source": [
    "## Connecting to Reddit using PRAW api wrapper"
   ]
  },
  {
   "cell_type": "markdown",
   "metadata": {},
   "source": [
    "`pip install praw`\n",
    "\n",
    "We begin with authentication (see https://praw.readthedocs.io/en/latest/getting_started/authentication.html)<br>using\n",
    "`client_id` and `client_secrete` found at https://www.reddit.com/prefs/apps/."
   ]
  },
  {
   "cell_type": "code",
   "execution_count": 4,
   "metadata": {
    "collapsed": false
   },
   "outputs": [],
   "source": [
    "# Load my secrets from external file\n",
    "with open(\"_api-reddit.yaml\", 'r') as stream:\n",
    "        my_secret = yaml.load(stream)\n",
    "\n",
    "client_id = my_secret['client_id']\n",
    "client_secret = my_secret['client_secret']"
   ]
  },
  {
   "cell_type": "markdown",
   "metadata": {},
   "source": [
    "We follow this tutorial: https://praw.readthedocs.io/en/latest/tutorials/comments.html"
   ]
  },
  {
   "cell_type": "code",
   "execution_count": 5,
   "metadata": {
    "collapsed": false
   },
   "outputs": [],
   "source": [
    "# Create instance of Reddit\n",
    "reddit = praw.Reddit(user_agent='Comment Extraction (by /u/USERNAME)',\n",
    "                     client_id=client_id, client_secret=client_secret)"
   ]
  },
  {
   "cell_type": "markdown",
   "metadata": {},
   "source": [
    "### Mining for Reddit comments\n",
    "\n",
    "> Men of Reddit, what's the biggest \"I'm a princess\" red flag?\n",
    "> -- thewhackcat"
   ]
  },
  {
   "cell_type": "code",
   "execution_count": 6,
   "metadata": {
    "collapsed": true
   },
   "outputs": [],
   "source": [
    "the_url = 'https://www.reddit.com/r/AskReddit/comments/5wkkwg/men_of_reddit_whats_the_biggest_im_a_princess_red/'"
   ]
  },
  {
   "cell_type": "code",
   "execution_count": 7,
   "metadata": {
    "collapsed": false,
    "scrolled": true
   },
   "outputs": [
    {
     "data": {
      "text/plain": [
       "Submission(id='5wkkwg')"
      ]
     },
     "execution_count": 7,
     "metadata": {},
     "output_type": "execute_result"
    }
   ],
   "source": [
    "submission = reddit.submission(url=the_url)\n",
    "submission"
   ]
  },
  {
   "cell_type": "code",
   "execution_count": 8,
   "metadata": {
    "collapsed": false,
    "scrolled": true
   },
   "outputs": [],
   "source": [
    "# RE: replace_more()\n",
    "# replace or remove all the MoreComments object in the comment forest\n",
    "# each replacement requires 1 network request & response may yield more MoreComments instances\n",
    "# max limit = 32\n",
    "submission.comments.replace_more(limit=0)\n",
    "\n",
    "\"\"\"\n",
    "# Search top level comments\n",
    "for top_level_comment in submission.comments:\n",
    "    print(top_level_comment.body)\n",
    "\"\"\"\n",
    "\n",
    "# List all comments + second, third, etc level ones (breadth first search)\n",
    "data = []\n",
    "for comment in submission.comments.list():\n",
    "    data.append(comment.body)"
   ]
  },
  {
   "cell_type": "markdown",
   "metadata": {},
   "source": [
    "## Sentiment analysis\n",
    "We follow this tutorial: http://www.nltk.org/howto/sentiment.html to find out how the redditors feel feel"
   ]
  },
  {
   "cell_type": "code",
   "execution_count": 9,
   "metadata": {
    "collapsed": false
   },
   "outputs": [],
   "source": [
    "# Documents for training\n",
    "n_instances = 5000  # subjectivity data set is size 5000\n",
    "n_trainset = int(n_instances * 0.8)\n",
    "\n",
    "subj_docs = [(sent, 'subj') for sent in subjectivity.sents(categories='subj')[:n_instances]]\n",
    "obj_docs = [(sent, 'obj') for sent in subjectivity.sents(categories='obj')[:n_instances]]\n",
    "\n",
    "# Train on first 80; test on last 20\n",
    "train_subj_docs = subj_docs[:n_trainset]\n",
    "test_subj_docs = subj_docs[n_trainset:n_instances]\n",
    "train_obj_docs = obj_docs[:n_trainset]\n",
    "test_obj_docs = obj_docs[n_trainset:n_instances]\n",
    "training_docs = train_subj_docs+train_obj_docs\n",
    "testing_docs = test_subj_docs+test_obj_docs\n",
    "\n",
    "# Create instance of SentimentAnalyzer\n",
    "sentim_analyzer = SentimentAnalyzer()\n",
    "\n",
    "# Append _NEG suffix to words that appear in the scope between a negation and a punctuation mark\n",
    "all_words_neg = sentim_analyzer.all_words([mark_negation(doc) for doc in training_docs])"
   ]
  },
  {
   "cell_type": "markdown",
   "metadata": {},
   "source": [
    "> A [SentimentAnalyzer](http://www.nltk.org/api/nltk.sentiment.html) is a tool to implement and facilitate Sentiment Analysis tasks using NLTK features and classifiers\n",
    "\n",
    "The VADER sentiment analysis tools is by the following:\n",
    "\n",
    "    Hutto, C.J. & Gilbert, E.E. (2014). VADER: A Parsimonious Rule-based Model for Sentiment Analysis of Social Media Text. Eighth International Conference on Weblogs and Social Media (ICWSM-14). Ann Arbor, MI, June 2014"
   ]
  },
  {
   "cell_type": "code",
   "execution_count": 10,
   "metadata": {
    "collapsed": true
   },
   "outputs": [],
   "source": [
    "# Use simple unigram word features\n",
    "# word must appear with a minimum of 4 times to be considered as a feature\n",
    "unigram_feats = sentim_analyzer.unigram_word_feats(all_words_neg, min_freq=4)\n",
    "\n",
    "# Enable feature extraction\n",
    "sentim_analyzer.add_feat_extractor(extract_unigram_feats, unigrams=unigram_feats)\n",
    "\n",
    "# Apply all feature extractor functions to the documents\n",
    "training_set = sentim_analyzer.apply_features(training_docs)\n",
    "test_set = sentim_analyzer.apply_features(testing_docs)"
   ]
  },
  {
   "cell_type": "code",
   "execution_count": 11,
   "metadata": {
    "collapsed": false
   },
   "outputs": [
    {
     "name": "stdout",
     "output_type": "stream",
     "text": [
      "Training classifier\n",
      "Evaluating NaiveBayesClassifier results...\n",
      "Accuracy: 0.91\n",
      "F-measure [obj]: 0.908256880733945\n",
      "F-measure [subj]: 0.9116781157998036\n",
      "Precision [obj]: 0.9261954261954262\n",
      "Precision [subj]: 0.894990366088632\n",
      "Recall [obj]: 0.891\n",
      "Recall [subj]: 0.929\n"
     ]
    }
   ],
   "source": [
    "# Train classifier\n",
    "trainer = NaiveBayesClassifier.train\n",
    "classifier = sentim_analyzer.train(trainer, training_set)\n",
    "\n",
    "# Evaluate classifier on hold out test set\n",
    "for key,value in sorted(sentim_analyzer.evaluate(test_set).items()):\n",
    "    print('{0}: {1}'.format(key, value))"
   ]
  },
  {
   "cell_type": "markdown",
   "metadata": {},
   "source": [
    "### Applying the classifier to our the Reddit comments"
   ]
  },
  {
   "cell_type": "code",
   "execution_count": 12,
   "metadata": {
    "collapsed": false
   },
   "outputs": [],
   "source": [
    "\"\"\"\n",
    "# Consider each sentence in response as 1 item\n",
    "sentences = data\n",
    "\"\"\"\n",
    "\n",
    "# Consider each sentence in response separately\n",
    "sentences = []\n",
    "for d in data:\n",
    "    sentences.extend(tokenize.sent_tokenize(d))"
   ]
  },
  {
   "cell_type": "code",
   "execution_count": 13,
   "metadata": {
    "collapsed": false
   },
   "outputs": [],
   "source": [
    "sid = SentimentIntensityAnalyzer()\n",
    "\n",
    "# compound = aggregate score of negative (neg), neutral (neu), and positive (pos)\n",
    "d = []\n",
    "for sentence in sentences:\n",
    "    d.append(sid.polarity_scores(sentence))"
   ]
  },
  {
   "cell_type": "code",
   "execution_count": 14,
   "metadata": {
    "collapsed": false
   },
   "outputs": [
    {
     "name": "stdout",
     "output_type": "stream",
     "text": [
      "(1053, 4)\n"
     ]
    },
    {
     "data": {
      "text/html": [
       "<div>\n",
       "<table border=\"1\" class=\"dataframe\">\n",
       "  <thead>\n",
       "    <tr style=\"text-align: right;\">\n",
       "      <th></th>\n",
       "      <th>compound</th>\n",
       "      <th>neg</th>\n",
       "      <th>neu</th>\n",
       "      <th>pos</th>\n",
       "    </tr>\n",
       "  </thead>\n",
       "  <tbody>\n",
       "    <tr>\n",
       "      <th>0</th>\n",
       "      <td>-0.3182</td>\n",
       "      <td>0.199</td>\n",
       "      <td>0.664</td>\n",
       "      <td>0.137</td>\n",
       "    </tr>\n",
       "    <tr>\n",
       "      <th>1</th>\n",
       "      <td>0.0000</td>\n",
       "      <td>0.000</td>\n",
       "      <td>1.000</td>\n",
       "      <td>0.000</td>\n",
       "    </tr>\n",
       "    <tr>\n",
       "      <th>2</th>\n",
       "      <td>0.3412</td>\n",
       "      <td>0.000</td>\n",
       "      <td>0.714</td>\n",
       "      <td>0.286</td>\n",
       "    </tr>\n",
       "    <tr>\n",
       "      <th>3</th>\n",
       "      <td>0.4404</td>\n",
       "      <td>0.000</td>\n",
       "      <td>0.707</td>\n",
       "      <td>0.293</td>\n",
       "    </tr>\n",
       "    <tr>\n",
       "      <th>4</th>\n",
       "      <td>0.4939</td>\n",
       "      <td>0.000</td>\n",
       "      <td>0.714</td>\n",
       "      <td>0.286</td>\n",
       "    </tr>\n",
       "  </tbody>\n",
       "</table>\n",
       "</div>"
      ],
      "text/plain": [
       "   compound    neg    neu    pos\n",
       "0   -0.3182  0.199  0.664  0.137\n",
       "1    0.0000  0.000  1.000  0.000\n",
       "2    0.3412  0.000  0.714  0.286\n",
       "3    0.4404  0.000  0.707  0.293\n",
       "4    0.4939  0.000  0.714  0.286"
      ]
     },
     "execution_count": 14,
     "metadata": {},
     "output_type": "execute_result"
    }
   ],
   "source": [
    "df = pd.DataFrame(d)\n",
    "print(df.shape)\n",
    "df.head()"
   ]
  },
  {
   "cell_type": "code",
   "execution_count": 15,
   "metadata": {
    "collapsed": false,
    "scrolled": false
   },
   "outputs": [
    {
     "data": {
      "text/plain": [
       "<matplotlib.axes._subplots.AxesSubplot at 0x14c5ea4e0>"
      ]
     },
     "execution_count": 15,
     "metadata": {},
     "output_type": "execute_result"
    },
    {
     "data": {
      "image/png": "[encoded data removed]",
      "text/plain": [
       "<matplotlib.figure.Figure at 0x14c548748>"
      ]
     },
     "metadata": {},
     "output_type": "display_data"
    },
    {
     "data": {
      "image/png": "[encoded data removed]",
      "text/plain": [
       "<matplotlib.figure.Figure at 0x118c27470>"
      ]
     },
     "metadata": {},
     "output_type": "display_data"
    }
   ],
   "source": [
    "df.drop(\"compound\", axis=1).plot.kde(xlim=[-.25, 1.25])\n",
    "df.drop(\"compound\", axis=1).plot.box(vert=False, xlim=[-.25, 1.25])"
   ]
  },
  {
   "cell_type": "markdown",
   "metadata": {},
   "source": [
    "We find that most people are neutral.\n",
    "\n",
    "### Most positive and most negative comments"
   ]
  },
  {
   "cell_type": "code",
   "execution_count": 16,
   "metadata": {
    "collapsed": false
   },
   "outputs": [],
   "source": [
    "n = 5\n",
    "\n",
    "# Top N most negative & positive comments\n",
    "index_neg = df.sort_values(by=['compound']).head(n).index.values\n",
    "index_pos = df.sort_values(by=['compound']).tail(n).index.values[::-1] #reverse order"
   ]
  },
  {
   "cell_type": "code",
   "execution_count": 17,
   "metadata": {
    "collapsed": false
   },
   "outputs": [],
   "source": [
    "def print_sentence(db, index_ndarray):    \n",
    "    for i,index in enumerate(index_ndarray.tolist()):\n",
    "        print(\"#\", i+1,'-'*70, sep=\"\")\n",
    "        print(db[index])\n",
    "        print(\"\")"
   ]
  },
  {
   "cell_type": "code",
   "execution_count": 18,
   "metadata": {
    "collapsed": false
   },
   "outputs": [
    {
     "name": "stdout",
     "output_type": "stream",
     "text": [
      "#1----------------------------------------------------------------------\n",
      "I was playing as the high chief of Novgorod today (starts as holomomor or something) and I had to kill that motherfucker who owns the only port at the start of the game and holy shit that guy survived more assassination attempts than I have ever seen.\n",
      "\n",
      "#2----------------------------------------------------------------------\n",
      "\"You stupid lemon stealing whore\"\n",
      "\n",
      "#3----------------------------------------------------------------------\n",
      "Knew a girl who sucked dick behind Macy's, was a total princess and got pissed off when everyone found out she was more trashy than her Facebook statuses had suggested\n",
      "\n",
      "#4----------------------------------------------------------------------\n",
      "Relationships get fucking adversarial and antagonistic so often and that's total cancer for a relationship.\n",
      "\n",
      "#5----------------------------------------------------------------------\n",
      "Finally just said, \"Fuck it,\" and imprisoned his ass and executed him.\n",
      "\n"
     ]
    }
   ],
   "source": [
    "print_sentence(sentences, index_neg)"
   ]
  },
  {
   "cell_type": "code",
   "execution_count": 19,
   "metadata": {
    "collapsed": false
   },
   "outputs": [
    {
     "name": "stdout",
     "output_type": "stream",
     "text": [
      "#1----------------------------------------------------------------------\n",
      "I still do have more male friends than female, but friends are friends, so who cares?\n",
      "\n",
      "#2----------------------------------------------------------------------\n",
      "She was fun, had a great sense of humor and she was absolutely gorgeous.\n",
      "\n",
      "#3----------------------------------------------------------------------\n",
      "\"Father\" is the person who provided half your DNA, \"dad\" is the person who lovingly raised you to the best of his ability.\n",
      "\n",
      "#4----------------------------------------------------------------------\n",
      "One of my best friends had a girlfriend once say she likes to have nicer things than other people, but doesn't want to work so he needs to have a good job.\n",
      "\n",
      "#5----------------------------------------------------------------------\n",
      "Turns out, she was an actual direct descendant and princess of Mowri royalty in hawai'i and meant she was a princess in that she always acted with grace, charm and dignity because she represented her family, which was greater than just her.\n",
      "\n"
     ]
    }
   ],
   "source": [
    "print_sentence(sentences, index_pos)"
   ]
  },
  {
   "cell_type": "code",
   "execution_count": 27,
   "metadata": {
    "collapsed": false
   },
   "outputs": [],
   "source": [
    "# Save input to data file\n",
    "data_file = \"api-reddit_2017-02-27_\" + submission.id + \".yaml\"\n",
    "with open(data_file, 'w') as f:\n",
    "    yaml.dump(data, f, default_flow_style=False)"
   ]
  }
 ],
 "metadata": {
  "kernelspec": {
   "display_name": "Python 3",
   "language": "python",
   "name": "python3"
  },
  "language_info": {
   "codemirror_mode": {
    "name": "ipython",
    "version": 3
   },
   "file_extension": ".py",
   "mimetype": "text/x-python",
   "name": "python",
   "nbconvert_exporter": "python",
   "pygments_lexer": "ipython3",
   "version": "3.6.0"
  }
 },
 "nbformat": 4,
 "nbformat_minor": 2
}

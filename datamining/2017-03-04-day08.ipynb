{
 "cells": [
  {
   "cell_type": "code",
   "execution_count": 1,
   "metadata": {
    "collapsed": false
   },
   "outputs": [],
   "source": [
    "import re\n",
    "import nltk\n",
    "from nltk.corpus import cmudict\n",
    "from curses.ascii import isdigit\n",
    "\n",
    "import yaml\n",
    "import praw\n",
    "\n",
    "import pandas as pd\n",
    "import matplotlib.pyplot as plt\n",
    "\n",
    "import random"
   ]
  },
  {
   "cell_type": "code",
   "execution_count": 2,
   "metadata": {
    "collapsed": true
   },
   "outputs": [],
   "source": [
    "%matplotlib inline"
   ]
  },
  {
   "cell_type": "code",
   "execution_count": 3,
   "metadata": {
    "collapsed": true
   },
   "outputs": [],
   "source": [
    "plt.rcParams[\"figure.figsize\"] = [15,4]\n",
    "plt.style.use('ggplot')"
   ]
  },
  {
   "cell_type": "markdown",
   "metadata": {},
   "source": [
    "---\n",
    "layout: post\n",
    "author: csiu\n",
    "date: 2017-03-04\n",
    "title: \"Day08:\"\n",
    "categories: update\n",
    "tags:\n",
    "  - 100daysofcode\n",
    "  - text-mining\n",
    "excerpt:\n",
    "---\n",
    "\n",
    "DAY 08 - Mar 4, 2017\n",
    "\n",
    "In continuation with yesterday, I want to know the reading level of Reddit.\n",
    "\n",
    "### Flesch Reading Ease"
   ]
  },
  {
   "cell_type": "code",
   "execution_count": 4,
   "metadata": {
    "collapsed": true
   },
   "outputs": [],
   "source": [
    "d = cmudict.dict()"
   ]
  },
  {
   "cell_type": "code",
   "execution_count": 5,
   "metadata": {
    "collapsed": true
   },
   "outputs": [],
   "source": [
    "def readability_ease(num_sentences, num_words, num_syllables):\n",
    "    asl = num_words / num_sentences\n",
    "    asw = num_syllables / num_words\n",
    "    \n",
    "    return(206.835 - (1.015 * asl) - (84.6 * asw))"
   ]
  },
  {
   "cell_type": "code",
   "execution_count": 6,
   "metadata": {
    "collapsed": true
   },
   "outputs": [],
   "source": [
    "def readability_ease_interpretation(x):\n",
    "    if 90 <= x:\n",
    "        res = \"5th grade] \"\n",
    "        res += \"Very easy to read. Easily understood by an average 11-year-old student.\"\n",
    "        \n",
    "    elif 80 <= x < 90:\n",
    "        res = \"6th grade] \"\n",
    "        res += \"Easy to read. Conversational English for consumers.\"\n",
    "        \n",
    "    elif 70 <= x < 80:\n",
    "        res = \"7th grade] \"\n",
    "        res += \"Fairly easy to read.\"\n",
    "        \n",
    "    elif 60 <= x < 70:\n",
    "        res = \"8th & 9th grade] \"\n",
    "        res += \"Plain English. Easily understood by 13- to 15-year-old students.\"\n",
    "        \n",
    "    elif 50 <= x < 60:\n",
    "        res = \"10th to 12th grade] \"\n",
    "        res += \"Fairly difficult to read.\"\n",
    "        \n",
    "    elif 30 <= x < 50:\n",
    "        res = \"College] \"\n",
    "        res += \"Difficult to read.\"\n",
    "        \n",
    "    elif 0 <= x < 30:\n",
    "        res = \"College Graduate] \"\n",
    "        res += \"Very difficult to read. Best understood by university graduates.\"\n",
    "        \n",
    "    print(\"[{:.1f}|{}\".format(x, res))"
   ]
  },
  {
   "cell_type": "code",
   "execution_count": 7,
   "metadata": {
    "collapsed": true
   },
   "outputs": [],
   "source": [
    "def count_syllables(word):\n",
    "    w = word.lower()\n",
    "    if w in d:\n",
    "        return([len(list(y for y in x if isdigit(y[-1]))) for x in d[w]][0])\n",
    "    else:\n",
    "        return(-1)"
   ]
  },
  {
   "cell_type": "markdown",
   "metadata": {},
   "source": [
    "We make a few modifications\n",
    "\n",
    "- `show_details` was added to show the number of sentences, words, and syllables were used to make up the Flesch Reading Ease score\n",
    "- make it so that words not in the dictionary are skipped (and that our program does not break)\n",
    "- Ensure not divide by 0"
   ]
  },
  {
   "cell_type": "code",
   "execution_count": 8,
   "metadata": {
    "collapsed": true
   },
   "outputs": [],
   "source": [
    "def flesch_reading_ease(text, show_details = False):\n",
    "    ## Preprocessing\n",
    "    text = text.lower()\n",
    "    \n",
    "    sentences = nltk.tokenize.sent_tokenize(text)\n",
    "    words = nltk.wordpunct_tokenize(re.sub('[^a-zA-Z_ ]', '',text))\n",
    "    syllables = [count_syllables(word) for word in words]\n",
    "\n",
    "    ## Count sentences, words, and syllables\n",
    "    ## Skip words that do not exist in dictionary\n",
    "    num_sentences = len(sentences)\n",
    "    num_unknown_words = syllables.count(-1)\n",
    "    num_words = len(words) - num_unknown_words\n",
    "    num_syllables = sum([s for s in syllables if s > 0])\n",
    "\n",
    "\n",
    "    ## Calculate\n",
    "    if (num_sentences == 0 or num_words == 0): return None   \n",
    "    fre = readability_ease(num_sentences, num_words, num_syllables)\n",
    "    \n",
    "    if show_details: \n",
    "        return {\n",
    "            \"sentence\" : num_sentences,\n",
    "            \"word\" : num_words,\n",
    "            \"syllables\" : num_syllables,\n",
    "            \"unknown\": num_unknown_words\n",
    "        }\n",
    "    return(fre)"
   ]
  },
  {
   "cell_type": "code",
   "execution_count": 9,
   "metadata": {
    "collapsed": false
   },
   "outputs": [
    {
     "data": {
      "text/plain": [
       "{'sentence': 3, 'syllables': 14, 'unknown': 0, 'word': 12}"
      ]
     },
     "execution_count": 9,
     "metadata": {},
     "output_type": "execute_result"
    }
   ],
   "source": [
    "text = \"Hello world, how are you? I am great. Thank you for asking!\"\n",
    "flesch_reading_ease(text, show_details = True)"
   ]
  },
  {
   "cell_type": "markdown",
   "metadata": {},
   "source": [
    "### What about Reddit?\n",
    "\n",
    "In [Day03]({{ site.baseurl }}/update/2017/02/27/day03.html), we access Reddit Data from an API"
   ]
  },
  {
   "cell_type": "code",
   "execution_count": 10,
   "metadata": {
    "collapsed": false
   },
   "outputs": [],
   "source": [
    "# Load my secrets from external file\n",
    "with open(\"_api-reddit.yaml\", 'r') as stream:\n",
    "        my_secret = yaml.load(stream)\n",
    "\n",
    "client_id = my_secret['client_id']\n",
    "client_secret = my_secret['client_secret']\n",
    "\n",
    "# Create instance of Reddit\n",
    "reddit = praw.Reddit(user_agent='Comment Extraction (by /u/USERNAME)',\n",
    "                     client_id=client_id, client_secret=client_secret)"
   ]
  },
  {
   "cell_type": "code",
   "execution_count": 11,
   "metadata": {
    "collapsed": false
   },
   "outputs": [],
   "source": [
    "def parse_reddit(reddit, the_url):\n",
    "    submission = reddit.submission(url=the_url)\n",
    "\n",
    "    # Replace MoreComments\n",
    "    submission.comments.replace_more(limit=0)\n",
    "\n",
    "    data = []\n",
    "    for comment in submission.comments.list():\n",
    "        data.append(comment.body)\n",
    "    \n",
    "    return(data)"
   ]
  },
  {
   "cell_type": "markdown",
   "metadata": {},
   "source": [
    "### Same thread, different question\n",
    "\n",
    "Lets find the Flesch Reading Ease of the Men of Reddit, what's the biggest \"I'm a princess\" red flag? (thewhackcat, 2017) thread."
   ]
  },
  {
   "cell_type": "code",
   "execution_count": 12,
   "metadata": {
    "collapsed": true
   },
   "outputs": [],
   "source": [
    "the_url = 'https://www.reddit.com/r/AskReddit/comments/5wkkwg/men_of_reddit_whats_the_biggest_im_a_princess_red/'"
   ]
  },
  {
   "cell_type": "code",
   "execution_count": 13,
   "metadata": {
    "collapsed": false
   },
   "outputs": [],
   "source": [
    "data = parse_reddit(reddit, the_url)"
   ]
  },
  {
   "cell_type": "code",
   "execution_count": 14,
   "metadata": {
    "collapsed": false
   },
   "outputs": [
    {
     "name": "stdout",
     "output_type": "stream",
     "text": [
      "My wife's maiden name was King.\n",
      "She maintains she is a Princess by definition. \n",
      "\n",
      "Can't argue with her logic.\n",
      "\n",
      "{'sentence': 3, 'word': 16, 'syllables': 24, 'unknown': 2}\n",
      "[74.5|7th grade] Fairly easy to read.\n"
     ]
    }
   ],
   "source": [
    "## Check that it works for 1 comment\n",
    "text = data[0]\n",
    "print(text)\n",
    "print(flesch_reading_ease(text, show_details = True))\n",
    "\n",
    "fre = flesch_reading_ease(text)\n",
    "readability_ease_interpretation(fre)"
   ]
  },
  {
   "cell_type": "code",
   "execution_count": 15,
   "metadata": {
    "collapsed": false
   },
   "outputs": [
    {
     "data": {
      "text/html": [
       "<div>\n",
       "<table border=\"1\" class=\"dataframe\">\n",
       "  <thead>\n",
       "    <tr style=\"text-align: right;\">\n",
       "      <th></th>\n",
       "      <th>Princess</th>\n",
       "    </tr>\n",
       "  </thead>\n",
       "  <tbody>\n",
       "    <tr>\n",
       "      <th>109</th>\n",
       "      <td>NaN</td>\n",
       "    </tr>\n",
       "    <tr>\n",
       "      <th>301</th>\n",
       "      <td>NaN</td>\n",
       "    </tr>\n",
       "    <tr>\n",
       "      <th>303</th>\n",
       "      <td>NaN</td>\n",
       "    </tr>\n",
       "    <tr>\n",
       "      <th>334</th>\n",
       "      <td>NaN</td>\n",
       "    </tr>\n",
       "    <tr>\n",
       "      <th>358</th>\n",
       "      <td>NaN</td>\n",
       "    </tr>\n",
       "    <tr>\n",
       "      <th>399</th>\n",
       "      <td>NaN</td>\n",
       "    </tr>\n",
       "    <tr>\n",
       "      <th>473</th>\n",
       "      <td>NaN</td>\n",
       "    </tr>\n",
       "    <tr>\n",
       "      <th>482</th>\n",
       "      <td>NaN</td>\n",
       "    </tr>\n",
       "    <tr>\n",
       "      <th>488</th>\n",
       "      <td>NaN</td>\n",
       "    </tr>\n",
       "  </tbody>\n",
       "</table>\n",
       "</div>"
      ],
      "text/plain": [
       "     Princess\n",
       "109       NaN\n",
       "301       NaN\n",
       "303       NaN\n",
       "334       NaN\n",
       "358       NaN\n",
       "399       NaN\n",
       "473       NaN\n",
       "482       NaN\n",
       "488       NaN"
      ]
     },
     "execution_count": 15,
     "metadata": {},
     "output_type": "execute_result"
    }
   ],
   "source": [
    "## To data frame\n",
    "x = [flesch_reading_ease(text) for text in data]\n",
    "df = pd.DataFrame({\"Princess\":x})\n",
    "\n",
    "## Is there NA?\n",
    "df[df.Princess.isnull()]"
   ]
  },
  {
   "cell_type": "code",
   "execution_count": 16,
   "metadata": {
    "collapsed": false
   },
   "outputs": [
    {
     "data": {
      "text/plain": [
       "'Nia Jax'"
      ]
     },
     "execution_count": 16,
     "metadata": {},
     "output_type": "execute_result"
    }
   ],
   "source": [
    "data[301]"
   ]
  },
  {
   "cell_type": "markdown",
   "metadata": {},
   "source": [
    "NA are mostly because words are not real"
   ]
  },
  {
   "cell_type": "markdown",
   "metadata": {},
   "source": [
    "### Average reading level\n",
    "On average, 7th grade level"
   ]
  },
  {
   "cell_type": "code",
   "execution_count": 17,
   "metadata": {
    "collapsed": false,
    "scrolled": false
   },
   "outputs": [
    {
     "name": "stdout",
     "output_type": "stream",
     "text": [
      "[79.1|7th grade] Fairly easy to read.\n"
     ]
    }
   ],
   "source": [
    "readability_ease_interpretation(df.Princess.mean())"
   ]
  },
  {
   "cell_type": "markdown",
   "metadata": {},
   "source": [
    "### More threads\n",
    "\n",
    "- Explain like I'm five: [ELI5: What would happen if you take a compass into space?](https://www.reddit.com/r/explainlikeimfive/comments/5xle3c/eli5_what_would_happen_if_you_take_a_compass_into/)\n",
    "- Shower thoughts: [College would be a lot more affordable if they stopped requiring courses that have nothing to do with people's major.](https://www.reddit.com/r/Showerthoughts/comments/5xippf/college_would_be_a_lot_more_affordable_if_they/)\n",
    "- Gaming [When the game knows shit is about to go down](https://www.reddit.com/r/gaming/comments/5xhpqs/when_the_game_knows_shit_is_about_to_go_down/)\n",
    "- Ask reddit [What's your favorite insult that does not contain a curse word?](https://www.reddit.com/r/AskReddit/comments/5xhvlq/whats_your_favorite_insult_that_does_not_contain/)\n",
    "- TIFU [TIFU by being courteous](https://www.reddit.com/r/tifu/comments/5xhfwh/tifu_by_being_courteous/)"
   ]
  },
  {
   "cell_type": "code",
   "execution_count": 18,
   "metadata": {
    "collapsed": false
   },
   "outputs": [],
   "source": [
    "urls = {\n",
    "    \"elif\" : \"https://www.reddit.com/r/explainlikeimfive/comments/5xle3c/eli5_what_would_happen_if_you_take_a_compass_into/\",\n",
    "    \"showerthoughts\" : \"https://www.reddit.com/r/Showerthoughts/comments/5xippf/college_would_be_a_lot_more_affordable_if_they/\",\n",
    "    \"gaming\" : \"https://www.reddit.com/r/gaming/comments/5xhpqs/when_the_game_knows_shit_is_about_to_go_down/\",\n",
    "    \"askreddit\" : \"https://www.reddit.com/r/AskReddit/comments/5xhvlq/whats_your_favorite_insult_that_does_not_contain/\",\n",
    "    \"tifu\" : \"https://www.reddit.com/r/tifu/comments/5xhfwh/tifu_by_being_courteous/\"\n",
    "}"
   ]
  },
  {
   "cell_type": "code",
   "execution_count": 19,
   "metadata": {
    "collapsed": false
   },
   "outputs": [],
   "source": [
    "random.seed(10)\n",
    "\n",
    "df = {}\n",
    "for k in urls.keys():\n",
    "    data = parse_reddit(reddit, urls[k])\n",
    "    fres = [flesch_reading_ease(text) for text in data]\n",
    "    fres = [fre for fre in fres if fre != None]\n",
    "    df[k] = random.sample(k=75, population=fres)\n",
    "    \n",
    "df = pd.DataFrame(df)"
   ]
  },
  {
   "cell_type": "code",
   "execution_count": 22,
   "metadata": {
    "collapsed": false
   },
   "outputs": [
    {
     "data": {
      "text/plain": [
       "<matplotlib.axes._subplots.AxesSubplot at 0x1212de438>"
      ]
     },
     "execution_count": 22,
     "metadata": {},
     "output_type": "execute_result"
    },
    {
     "data": {
      "image/png": "[encoded data removed]",
      "text/plain": [
       "<matplotlib.figure.Figure at 0x121160080>"
      ]
     },
     "metadata": {},
     "output_type": "display_data"
    },
    {
     "data": {
      "image/png": "[encoded data removed]",
      "text/plain": [
       "<matplotlib.figure.Figure at 0x120ee0b70>"
      ]
     },
     "metadata": {},
     "output_type": "display_data"
    }
   ],
   "source": [
    "df.plot.kde(xlim=[-6,150])\n",
    "df.plot.box(vert=False, xlim=[0, 156])"
   ]
  },
  {
   "cell_type": "code",
   "execution_count": null,
   "metadata": {
    "collapsed": true
   },
   "outputs": [],
   "source": []
  }
 ],
 "metadata": {
  "kernelspec": {
   "display_name": "Python 3",
   "language": "python",
   "name": "python3"
  },
  "language_info": {
   "codemirror_mode": {
    "name": "ipython",
    "version": 3
   },
   "file_extension": ".py",
   "mimetype": "text/x-python",
   "name": "python",
   "nbconvert_exporter": "python",
   "pygments_lexer": "ipython3",
   "version": "3.6.0"
  }
 },
 "nbformat": 4,
 "nbformat_minor": 2
}

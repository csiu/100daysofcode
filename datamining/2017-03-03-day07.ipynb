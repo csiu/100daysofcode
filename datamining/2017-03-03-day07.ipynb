{
 "cells": [
  {
   "cell_type": "markdown",
   "metadata": {},
   "source": [
    "---\n",
    "layout: post\n",
    "author: csiu\n",
    "date: 2017-03-03\n",
    "title: \"Day07:\"\n",
    "categories: update\n",
    "tags:\n",
    "  - 100daysofcode\n",
    "  - text-mining\n",
    "excerpt:\n",
    "---\n",
    "\n",
    "DAY 07 - Mar 3, 2017\n",
    "\n",
    "Yesterday, the Flesch reading ease score got me thinking ...\n",
    "\n",
    "### Flesch reading ease \n",
    "Flesch reading ease is a measure of how difficult a passage in English is to understand. The formula for the readability ease measure is calculated as follows:\n",
    "\n",
    "$RE = 206.835 – (1.015 x \\frac{total\\ words}{total\\ sentences}) – (84.6 x \\frac{total\\ syllables}{total\\ words})$\n",
    "\n",
    "where $\\frac{total\\ words}{total\\ sentences}$ refers to the average sentence length (ASL) and \n",
    "$\\frac{total\\ syllables}{total\\ words}$ refers to the average number of syllables per word (ASW)."
   ]
  },
  {
   "cell_type": "code",
   "execution_count": 1,
   "metadata": {
    "collapsed": true
   },
   "outputs": [],
   "source": [
    "def readability_ease(num_sentences, num_words, num_syllables):\n",
    "    asl = num_words / num_sentences\n",
    "    asw = num_syllables / num_words\n",
    "    \n",
    "    return(206.835 - (1.015 * asl) - (84.6 * asw))"
   ]
  },
  {
   "cell_type": "markdown",
   "metadata": {},
   "source": [
    "The readability ease (RE) score ranges from 0 to 100 and a higher scores indicate material that is easier to read. "
   ]
  },
  {
   "cell_type": "code",
   "execution_count": 2,
   "metadata": {
    "collapsed": false
   },
   "outputs": [],
   "source": [
    "def readability_ease_interpretation(x):\n",
    "    if 90 <= x:\n",
    "        res = \"5th grade] \"\n",
    "        res += \"Very easy to read. Easily understood by an average 11-year-old student.\"\n",
    "        \n",
    "    elif 80 <= x < 90:\n",
    "        res = \"6th grade] \"\n",
    "        res += \"Easy to read. Conversational English for consumers.\"\n",
    "        \n",
    "    elif 70 <= x < 80:\n",
    "        res = \"7th grade] \"\n",
    "        res += \"Fairly easy to read.\"\n",
    "        \n",
    "    elif 60 <= x < 70:\n",
    "        res = \"8th & 9th grade] \"\n",
    "        res += \"Plain English. Easily understood by 13- to 15-year-old students.\"\n",
    "        \n",
    "    elif 50 <= x < 60:\n",
    "        res = \"10th to 12th grade] \"\n",
    "        res += \"Fairly difficult to read.\"\n",
    "        \n",
    "    elif 30 <= x < 50:\n",
    "        res = \"College] \"\n",
    "        res += \"Difficult to read.\"\n",
    "        \n",
    "    elif 0 <= x < 30:\n",
    "        res = \"College Graduate] \"\n",
    "        res += \"Very difficult to read. Best understood by university graduates.\"\n",
    "        \n",
    "    print(\"[{:.1f}|{}\".format(x, res))"
   ]
  },
  {
   "cell_type": "markdown",
   "metadata": {},
   "source": [
    "### Test case"
   ]
  },
  {
   "cell_type": "code",
   "execution_count": 3,
   "metadata": {
    "collapsed": true
   },
   "outputs": [],
   "source": [
    "text = \"Hello world, how are you? I am great. Thank you for asking!\""
   ]
  },
  {
   "cell_type": "markdown",
   "metadata": {},
   "source": [
    "In this test case, we have 12 words, 14 syllables, and 3 sentences."
   ]
  },
  {
   "cell_type": "markdown",
   "metadata": {},
   "source": [
    "### Counting words\n",
    "Counting words is easy."
   ]
  },
  {
   "cell_type": "code",
   "execution_count": 4,
   "metadata": {
    "collapsed": false
   },
   "outputs": [
    {
     "name": "stdout",
     "output_type": "stream",
     "text": [
      "['hello', 'world', 'how', 'are', 'you', 'i', 'am', 'great', 'thank', 'you', 'for', 'asking']\n",
      "12\n"
     ]
    }
   ],
   "source": [
    "import nltk\n",
    "import re\n",
    "\n",
    "text = text.lower()\n",
    "\n",
    "words = nltk.wordpunct_tokenize(re.sub('[^a-zA-Z_ ]', '',text))\n",
    "num_words = len(words)\n",
    "\n",
    "print(words)\n",
    "print(num_words)"
   ]
  },
  {
   "cell_type": "markdown",
   "metadata": {},
   "source": [
    "### Counting syllables\n",
    "\n",
    "Counting syllables is a bit more tricky. According to [Using Python and the NLTK to Find Haikus in the Public Twitter Stream](http://h6o6.com/2013/03/using-python-and-the-nltk-to-find-haikus-in-the-public-twitter-stream/) by Brandon Wood (2013), the [Carnegie Mellon University (CMU) Pronouncing Dictionary](http://www.speech.cs.cmu.edu/cgi-bin/cmudict) corpora contain the syllable count for over 125,000 (English) words and thus could be used to count syllables."
   ]
  },
  {
   "cell_type": "code",
   "execution_count": 5,
   "metadata": {
    "collapsed": true
   },
   "outputs": [],
   "source": [
    "from nltk.corpus import cmudict\n",
    "from curses.ascii import isdigit\n",
    "\n",
    "d = cmudict.dict()\n",
    "\n",
    "def count_syllables(word):\n",
    "    return([len(list(y for y in x if isdigit(y[-1]))) for x in d[word.lower()]][0])"
   ]
  },
  {
   "cell_type": "code",
   "execution_count": 6,
   "metadata": {
    "collapsed": false
   },
   "outputs": [
    {
     "name": "stdout",
     "output_type": "stream",
     "text": [
      "Number of syllables per word\n",
      "============================\n",
      "hello: 2\n",
      "world: 1\n",
      "how: 1\n",
      "are: 1\n",
      "you: 1\n",
      "i: 1\n",
      "am: 1\n",
      "great: 1\n",
      "thank: 1\n",
      "you: 1\n",
      "for: 1\n",
      "asking: 2\n"
     ]
    }
   ],
   "source": [
    "print(\"Number of syllables per word\", \"=\"*28, sep=\"\\n\")\n",
    "for word in words:\n",
    "    num_syllables = count_syllables(word)\n",
    "    print(\"{}: {}\".format(word, num_syllables))"
   ]
  },
  {
   "cell_type": "markdown",
   "metadata": {},
   "source": [
    "### Counting sentences\n",
    "This was already done in Day03."
   ]
  },
  {
   "cell_type": "code",
   "execution_count": 7,
   "metadata": {
    "collapsed": false
   },
   "outputs": [
    {
     "name": "stdout",
     "output_type": "stream",
     "text": [
      "Number of sentences: 3\n",
      "=========================\n",
      "hello world, how are you?\n",
      "i am great.\n",
      "thank you for asking!\n"
     ]
    }
   ],
   "source": [
    "sentences = nltk.tokenize.sent_tokenize(text)\n",
    "num_sentences = len(sentences)\n",
    "\n",
    "print(\"Number of sentences: {}\".format(num_sentences), \"=\"*25, sep=\"\\n\")\n",
    "for sentence in sentences:\n",
    "    print(sentence)"
   ]
  },
  {
   "cell_type": "markdown",
   "metadata": {},
   "source": [
    "### Putting it all together"
   ]
  },
  {
   "cell_type": "code",
   "execution_count": 8,
   "metadata": {
    "collapsed": false
   },
   "outputs": [],
   "source": [
    "def flesch_reading_ease(text):\n",
    "    ## Preprocessing\n",
    "    text = text.lower()\n",
    "    \n",
    "    sentences = nltk.tokenize.sent_tokenize(text)\n",
    "    words = nltk.wordpunct_tokenize(re.sub('[^a-zA-Z_ ]', '',text))\n",
    "\n",
    "    ## Count\n",
    "    num_sentences = len(sentences)\n",
    "    num_words = len(words)\n",
    "    num_syllables = sum([count_syllables(word) for word in words])\n",
    "\n",
    "    ## Calculate\n",
    "    fre = readability_ease(num_sentences, num_words, num_syllables)\n",
    "    return(fre)"
   ]
  },
  {
   "cell_type": "code",
   "execution_count": 9,
   "metadata": {
    "collapsed": false
   },
   "outputs": [
    {
     "name": "stdout",
     "output_type": "stream",
     "text": [
      "[104.1|5th grade] Very easy to read. Easily understood by an average 11-year-old student.\n"
     ]
    }
   ],
   "source": [
    "fre = flesch_reading_ease(text)\n",
    "\n",
    "readability_ease_interpretation(fre)"
   ]
  },
  {
   "cell_type": "markdown",
   "metadata": {},
   "source": [
    "In the example, the sentence was constructed at a 5th grade level. It's strange the score is above 100."
   ]
  },
  {
   "cell_type": "markdown",
   "metadata": {},
   "source": [
    "### What about Shakespeare?"
   ]
  },
  {
   "cell_type": "code",
   "execution_count": 10,
   "metadata": {
    "collapsed": false
   },
   "outputs": [
    {
     "name": "stdout",
     "output_type": "stream",
     "text": [
      "[87.1|6th grade] Easy to read. Conversational English for consumers.\n"
     ]
    }
   ],
   "source": [
    "# (As You Like it Act 2, Scene 7)\n",
    "text = \"\"\"\n",
    "All the world's a stage, \n",
    "and all the men and women merely players. \n",
    "They have their exits and their entrances; \n",
    "And one man in his time plays many parts\n",
    "\"\"\"\n",
    "\n",
    "fre = flesch_reading_ease(text)\n",
    "readability_ease_interpretation(fre)"
   ]
  },
  {
   "cell_type": "markdown",
   "metadata": {},
   "source": [
    "... Thus, Shakespeare is be doable in high school."
   ]
  }
 ],
 "metadata": {
  "kernelspec": {
   "display_name": "Python 3",
   "language": "python",
   "name": "python3"
  },
  "language_info": {
   "codemirror_mode": {
    "name": "ipython",
    "version": 3
   },
   "file_extension": ".py",
   "mimetype": "text/x-python",
   "name": "python",
   "nbconvert_exporter": "python",
   "pygments_lexer": "ipython3",
   "version": "3.6.0"
  }
 },
 "nbformat": 4,
 "nbformat_minor": 2
}
